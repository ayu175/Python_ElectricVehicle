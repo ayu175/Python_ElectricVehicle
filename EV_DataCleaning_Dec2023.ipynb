{
 "cells": [
  {
   "cell_type": "code",
   "execution_count": null,
   "id": "347a38b4-138c-46d9-80a7-a064c22e1905",
   "metadata": {},
   "outputs": [],
   "source": [
    "# import packages for data exploration and cleaning\n",
    "import pandas as pd"
   ]
  },
  {
   "cell_type": "code",
   "execution_count": null,
   "id": "b7164d84-1c26-443b-865f-efc74689885c",
   "metadata": {},
   "outputs": [],
   "source": [
    "# read csv file from local drive\n",
    "ev_df = pd.read_csv('./Documents/DataAnalytics/ElectricCarData_Norm.csv')\n",
    "\n",
    "# view dataframe\n",
    "ev_df"
   ]
  },
  {
   "cell_type": "code",
   "execution_count": null,
   "id": "fa83af3c-149c-4f5e-8161-14a78185fd9d",
   "metadata": {},
   "outputs": [],
   "source": [
    "# checking for null values for each column\n",
    "ev_df.isnull().sum()"
   ]
  },
  {
   "cell_type": "code",
   "execution_count": null,
   "id": "e8c80896-39e6-4e69-a439-d113c9d4fca3",
   "metadata": {},
   "outputs": [],
   "source": [
    "# looking for the rows with null values\n",
    "rows_with_nulls = ev_df[ev_df.isna().any(axis=1)]\n",
    "rows_with_nulls\n",
    "\n",
    "# the reason these values are nulls are because 'Rapid charging is not possible'"
   ]
  },
  {
   "cell_type": "code",
   "execution_count": null,
   "id": "d188135b-9d85-4964-8763-334903167a0c",
   "metadata": {},
   "outputs": [],
   "source": [
    "# replace null values with 0 km/h instead of removing rows\n",
    "ev_df.fillna('0 km/h', inplace=True)\n",
    "\n",
    "# checking to see if null values were replaced successfully\n",
    "updated_values = ev_df[ev_df['RapidCharge'] == 'Rapid charging not possible']\n",
    "updated_values"
   ]
  },
  {
   "cell_type": "code",
   "execution_count": null,
   "id": "fff3684f-4145-49f7-aded-7733d5001ca5",
   "metadata": {},
   "outputs": [],
   "source": [
    "# checking for duplicate data\n",
    "ev_df.duplicated().sum()"
   ]
  },
  {
   "cell_type": "code",
   "execution_count": null,
   "id": "b026c452-1231-4076-819f-d5cd97ddc8fc",
   "metadata": {},
   "outputs": [],
   "source": [
    "# renaming multiple columns to include what unit is measured\n",
    "ev_df = ev_df.rename(columns = {'Accel':'Accel_Sec', 'TopSpeed':'TopSpeed_KmH', 'Range':'Range_Km', 'Efficiency':'Efficiency_WhKm', \n",
    "                                'FastCharge':'FastCharge_KmH'})\n",
    "\n",
    "# checking to see headers are updated successfully\n",
    "ev_df.head()"
   ]
  },
  {
   "cell_type": "code",
   "execution_count": null,
   "id": "2bf0b53c-0abe-4042-a435-00e9c12cf736",
   "metadata": {},
   "outputs": [],
   "source": [
    "# removing measurements in the data points for Accel_Sec, TopSpeed_KmH, Range_Km, Efficiency_WhKm, and FastCharge_KmH\n",
    "# specify columns and replacements\n",
    "columns_to_replace = ['Accel_Sec', 'TopSpeed_KmH', 'Range_Km', 'Efficiency_WhKm', 'FastCharge_KmH']\n",
    "replacements = [' sec', ' km/h', ' km', ' Wh/km', ' km/h']\n",
    "\n",
    "# apply replacements using a loop\n",
    "for column, replacement in zip(columns_to_replace, replacements):\n",
    "    ev_df[column] = ev_df[column].str.replace(replacement, '')"
   ]
  },
  {
   "cell_type": "code",
   "execution_count": null,
   "id": "0d8fa203-29d1-49e6-b950-f2fd8f7b2d3b",
   "metadata": {},
   "outputs": [],
   "source": [
    "# 1/2 - changing RapidCharge values to Yes or No for simplicity\n",
    "\n",
    "# checking all possible values for RapidCharge\n",
    "ev_df['RapidCharge'].value_counts()"
   ]
  },
  {
   "cell_type": "code",
   "execution_count": null,
   "id": "cdc09ad5-eb41-4aa5-be42-de8ecd583c2a",
   "metadata": {},
   "outputs": [],
   "source": [
    "# 2/2 - changing RapidCharge values to Yes or No for simplicity\n",
    "# define the mapping for replacement\n",
    "replacement_mapping = {'Rapid charging possible': 'Yes', 'Rapid charging not possible': 'No'}\n",
    "\n",
    "# use the replace method for multiple replacements\n",
    "ev_df['RapidCharge'] = ev_df['RapidCharge'].replace(replacement_mapping)"
   ]
  },
  {
   "cell_type": "code",
   "execution_count": null,
   "id": "10d4caf6-64db-4fab-8cd9-fef17c188bf4",
   "metadata": {},
   "outputs": [],
   "source": [
    "# check data types\n",
    "ev_df.dtypes"
   ]
  },
  {
   "cell_type": "code",
   "execution_count": null,
   "id": "b614507d-448d-40c9-8cb6-4b71ef3bb318",
   "metadata": {},
   "outputs": [],
   "source": [
    "# change data types from object to integer for columns Accel_Sec, TopSpeed_KmH, Range_Km, Efficiency_WhKm, and FastCharge_KmH\n",
    "ev_df = ev_df.astype({'Accel_Sec':'float', 'TopSpeed_KmH':'int', 'Range_Km':'int', 'Efficiency_WhKm':'int','FastCharge_KmH':'int'})"
   ]
  },
  {
   "cell_type": "code",
   "execution_count": null,
   "id": "1b7f0809-0f91-45ba-898a-4b0525308a5b",
   "metadata": {},
   "outputs": [],
   "source": [
    "# verify data types have changed correctly\n",
    "ev_df.dtypes"
   ]
  },
  {
   "cell_type": "code",
   "execution_count": null,
   "id": "7048450c-fca8-4ba9-b5ff-8d5ea80a0163",
   "metadata": {},
   "outputs": [],
   "source": [
    "# save cleaned dataset as new csv file in the same folder (ready to be used for data analysis)\n",
    "ev_df.to_csv('./Documents/DataAnalytics/ElectricCarData_Clean.csv', index=False)"
   ]
  }
 ],
 "metadata": {
  "kernelspec": {
   "display_name": "Python 3 (ipykernel)",
   "language": "python",
   "name": "python3"
  },
  "language_info": {
   "codemirror_mode": {
    "name": "ipython",
    "version": 3
   },
   "file_extension": ".py",
   "mimetype": "text/x-python",
   "name": "python",
   "nbconvert_exporter": "python",
   "pygments_lexer": "ipython3",
   "version": "3.12.1"
  }
 },
 "nbformat": 4,
 "nbformat_minor": 5
}
